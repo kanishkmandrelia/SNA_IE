{
 "cells": [
  {
   "cell_type": "code",
   "execution_count": 1,
   "metadata": {},
   "outputs": [],
   "source": [
    "import pandas as pd \n",
    "import numpy as np\n",
    "import matplotlib.pyplot as plt\n",
    "%matplotlib inline\n",
    "import seaborn as sn"
   ]
  },
  {
   "cell_type": "code",
   "execution_count": 2,
   "metadata": {},
   "outputs": [],
   "source": [
    "df = pd.read_csv(\"data.csv\", encoding='cp1252')"
   ]
  },
  {
   "cell_type": "code",
   "execution_count": 3,
   "metadata": {},
   "outputs": [
    {
     "data": {
      "text/html": [
       "<div>\n",
       "<style scoped>\n",
       "    .dataframe tbody tr th:only-of-type {\n",
       "        vertical-align: middle;\n",
       "    }\n",
       "\n",
       "    .dataframe tbody tr th {\n",
       "        vertical-align: top;\n",
       "    }\n",
       "\n",
       "    .dataframe thead th {\n",
       "        text-align: right;\n",
       "    }\n",
       "</style>\n",
       "<table border=\"1\" class=\"dataframe\">\n",
       "  <thead>\n",
       "    <tr style=\"text-align: right;\">\n",
       "      <th></th>\n",
       "      <th>Age</th>\n",
       "      <th>City</th>\n",
       "      <th>Current Status</th>\n",
       "      <th>Do you own multiple profiles on Instagram?</th>\n",
       "      <th>Gender</th>\n",
       "      <th>Highest Education</th>\n",
       "      <th>Location (City Airport Code)</th>\n",
       "      <th>Phone OS</th>\n",
       "      <th>State</th>\n",
       "      <th>Zone</th>\n",
       "      <th>...</th>\n",
       "      <th>Time Spent on Instagram in last week (in minutes)</th>\n",
       "      <th>Time Spent on Instagram in last weekend (in minutes)</th>\n",
       "      <th>Time Spent on WhatsApp in last week (in minutes)</th>\n",
       "      <th>Time Spent on WhatsApp in last weekend (in minutes)</th>\n",
       "      <th>Total Facebook Usage</th>\n",
       "      <th>Total Instagram Usage</th>\n",
       "      <th>Total Social Media Usage</th>\n",
       "      <th>Total Week Usage</th>\n",
       "      <th>Total Weekend Usage</th>\n",
       "      <th>Total WhatsApp Usage</th>\n",
       "    </tr>\n",
       "  </thead>\n",
       "  <tbody>\n",
       "    <tr>\n",
       "      <th>0</th>\n",
       "      <td>24</td>\n",
       "      <td>Delhi</td>\n",
       "      <td>Working professional</td>\n",
       "      <td>No</td>\n",
       "      <td>Female</td>\n",
       "      <td>Graduation</td>\n",
       "      <td>DEL</td>\n",
       "      <td>iOs</td>\n",
       "      <td>Delhi</td>\n",
       "      <td>Northern</td>\n",
       "      <td>...</td>\n",
       "      <td>770</td>\n",
       "      <td>400</td>\n",
       "      <td>900</td>\n",
       "      <td>120</td>\n",
       "      <td>0</td>\n",
       "      <td>1,170</td>\n",
       "      <td>2,190</td>\n",
       "      <td>1,670</td>\n",
       "      <td>520</td>\n",
       "      <td>1,020</td>\n",
       "    </tr>\n",
       "    <tr>\n",
       "      <th>1</th>\n",
       "      <td>39</td>\n",
       "      <td>Delhi</td>\n",
       "      <td>Working professional</td>\n",
       "      <td>No</td>\n",
       "      <td>Female</td>\n",
       "      <td>Post graduation</td>\n",
       "      <td>DEL</td>\n",
       "      <td>iOs</td>\n",
       "      <td>Delhi</td>\n",
       "      <td>Northern</td>\n",
       "      <td>...</td>\n",
       "      <td>0</td>\n",
       "      <td>0</td>\n",
       "      <td>5,000</td>\n",
       "      <td>2,000</td>\n",
       "      <td>8,160</td>\n",
       "      <td>0</td>\n",
       "      <td>15,160</td>\n",
       "      <td>11,000</td>\n",
       "      <td>4,160</td>\n",
       "      <td>7,000</td>\n",
       "    </tr>\n",
       "    <tr>\n",
       "      <th>2</th>\n",
       "      <td>22</td>\n",
       "      <td>Mumbai</td>\n",
       "      <td>Working professional</td>\n",
       "      <td>No</td>\n",
       "      <td>Male</td>\n",
       "      <td>Graduation</td>\n",
       "      <td>BOM</td>\n",
       "      <td>Android</td>\n",
       "      <td>Maharashtra</td>\n",
       "      <td>Western</td>\n",
       "      <td>...</td>\n",
       "      <td>1,000</td>\n",
       "      <td>1,000</td>\n",
       "      <td>7,000</td>\n",
       "      <td>2,000</td>\n",
       "      <td>2,500</td>\n",
       "      <td>2,000</td>\n",
       "      <td>13,500</td>\n",
       "      <td>8,500</td>\n",
       "      <td>5,000</td>\n",
       "      <td>9,000</td>\n",
       "    </tr>\n",
       "    <tr>\n",
       "      <th>3</th>\n",
       "      <td>26</td>\n",
       "      <td>Bengaluru</td>\n",
       "      <td>Sabbatical</td>\n",
       "      <td>Yes</td>\n",
       "      <td>Female</td>\n",
       "      <td>Graduation</td>\n",
       "      <td>BLR</td>\n",
       "      <td>Android</td>\n",
       "      <td>Karnataka</td>\n",
       "      <td>Southern</td>\n",
       "      <td>...</td>\n",
       "      <td>2,000</td>\n",
       "      <td>2,000</td>\n",
       "      <td>1,680</td>\n",
       "      <td>1,680</td>\n",
       "      <td>3,000</td>\n",
       "      <td>4,000</td>\n",
       "      <td>10,360</td>\n",
       "      <td>5,180</td>\n",
       "      <td>5,180</td>\n",
       "      <td>3,360</td>\n",
       "    </tr>\n",
       "    <tr>\n",
       "      <th>4</th>\n",
       "      <td>50</td>\n",
       "      <td>Delhi</td>\n",
       "      <td>Working professional</td>\n",
       "      <td>No</td>\n",
       "      <td>Male</td>\n",
       "      <td>Graduation</td>\n",
       "      <td>DEL</td>\n",
       "      <td>iOs</td>\n",
       "      <td>Delhi</td>\n",
       "      <td>Northern</td>\n",
       "      <td>...</td>\n",
       "      <td>0</td>\n",
       "      <td>0</td>\n",
       "      <td>2,400</td>\n",
       "      <td>1,300</td>\n",
       "      <td>3,000</td>\n",
       "      <td>0</td>\n",
       "      <td>6,700</td>\n",
       "      <td>3,900</td>\n",
       "      <td>2,800</td>\n",
       "      <td>3,700</td>\n",
       "    </tr>\n",
       "  </tbody>\n",
       "</table>\n",
       "<p>5 rows × 26 columns</p>\n",
       "</div>"
      ],
      "text/plain": [
       "   Age       City        Current Status  \\\n",
       "0   24      Delhi  Working professional   \n",
       "1   39      Delhi  Working professional   \n",
       "2   22     Mumbai  Working professional   \n",
       "3   26  Bengaluru            Sabbatical   \n",
       "4   50      Delhi  Working professional   \n",
       "\n",
       "  Do you own multiple profiles on Instagram?  Gender Highest Education  \\\n",
       "0                                         No  Female        Graduation   \n",
       "1                                         No  Female   Post graduation   \n",
       "2                                         No    Male        Graduation   \n",
       "3                                        Yes  Female        Graduation   \n",
       "4                                         No    Male        Graduation   \n",
       "\n",
       "  Location (City Airport Code) Phone OS        State      Zone  ...  \\\n",
       "0                          DEL      iOs        Delhi  Northern  ...   \n",
       "1                          DEL      iOs        Delhi  Northern  ...   \n",
       "2                          BOM  Android  Maharashtra   Western  ...   \n",
       "3                          BLR  Android    Karnataka  Southern  ...   \n",
       "4                          DEL      iOs        Delhi  Northern  ...   \n",
       "\n",
       "  Time Spent on Instagram in last week (in minutes)  \\\n",
       "0                                               770   \n",
       "1                                                 0   \n",
       "2                                             1,000   \n",
       "3                                             2,000   \n",
       "4                                                 0   \n",
       "\n",
       "  Time Spent on Instagram in last weekend (in minutes)  \\\n",
       "0                                                400     \n",
       "1                                                  0     \n",
       "2                                              1,000     \n",
       "3                                              2,000     \n",
       "4                                                  0     \n",
       "\n",
       "   Time Spent on WhatsApp in last week (in minutes)  \\\n",
       "0                                               900   \n",
       "1                                             5,000   \n",
       "2                                             7,000   \n",
       "3                                             1,680   \n",
       "4                                             2,400   \n",
       "\n",
       "   Time Spent on WhatsApp in last weekend (in minutes) Total Facebook Usage  \\\n",
       "0                                                120                      0   \n",
       "1                                              2,000                  8,160   \n",
       "2                                              2,000                  2,500   \n",
       "3                                              1,680                  3,000   \n",
       "4                                              1,300                  3,000   \n",
       "\n",
       "  Total Instagram Usage Total Social Media Usage Total Week Usage  \\\n",
       "0                 1,170                    2,190            1,670   \n",
       "1                     0                   15,160           11,000   \n",
       "2                 2,000                   13,500            8,500   \n",
       "3                 4,000                   10,360            5,180   \n",
       "4                     0                    6,700            3,900   \n",
       "\n",
       "  Total Weekend Usage Total WhatsApp Usage  \n",
       "0                 520                1,020  \n",
       "1               4,160                7,000  \n",
       "2               5,000                9,000  \n",
       "3               5,180                3,360  \n",
       "4               2,800                3,700  \n",
       "\n",
       "[5 rows x 26 columns]"
      ]
     },
     "execution_count": 3,
     "metadata": {},
     "output_type": "execute_result"
    }
   ],
   "source": [
    "df.head()"
   ]
  },
  {
   "cell_type": "code",
   "execution_count": 4,
   "metadata": {},
   "outputs": [
    {
     "data": {
      "text/plain": [
       "Index(['Age', 'City', 'Current Status',\n",
       "       'Do you own multiple profiles on Instagram?', 'Gender',\n",
       "       'Highest Education', 'Location (City Airport Code)', 'Phone OS',\n",
       "       'State', 'Zone',\n",
       "       'How many followers do you have on Instagram? (In case of multiple accounts, please mention the one with the maximum)',\n",
       "       'How many posts do you have on Instagram?', 'Latitude', 'Longitude',\n",
       "       'Time Spent on Facebook in last week (in minutes)',\n",
       "       'Time Spent on Facebook in last weekend (in minutes)',\n",
       "       'Time Spent on Instagram in last week (in minutes)',\n",
       "       'Time Spent on Instagram in last weekend (in minutes)',\n",
       "       'Time Spent on WhatsApp in last week (in minutes)',\n",
       "       'Time Spent on WhatsApp in last weekend (in minutes)',\n",
       "       'Total Facebook Usage', 'Total Instagram Usage',\n",
       "       'Total Social Media Usage', 'Total Week Usage', 'Total Weekend Usage',\n",
       "       'Total WhatsApp Usage'],\n",
       "      dtype='object')"
      ]
     },
     "execution_count": 4,
     "metadata": {},
     "output_type": "execute_result"
    }
   ],
   "source": [
    "df.columns"
   ]
  },
  {
   "cell_type": "code",
   "execution_count": 5,
   "metadata": {},
   "outputs": [
    {
     "data": {
      "text/plain": [
       "(1628, 26)"
      ]
     },
     "execution_count": 5,
     "metadata": {},
     "output_type": "execute_result"
    }
   ],
   "source": [
    "df.shape"
   ]
  },
  {
   "cell_type": "markdown",
   "metadata": {},
   "source": [
    "Data Preprocessing"
   ]
  },
  {
   "cell_type": "code",
   "execution_count": 6,
   "metadata": {},
   "outputs": [
    {
     "data": {
      "text/html": [
       "<div>\n",
       "<style scoped>\n",
       "    .dataframe tbody tr th:only-of-type {\n",
       "        vertical-align: middle;\n",
       "    }\n",
       "\n",
       "    .dataframe tbody tr th {\n",
       "        vertical-align: top;\n",
       "    }\n",
       "\n",
       "    .dataframe thead th {\n",
       "        text-align: right;\n",
       "    }\n",
       "</style>\n",
       "<table border=\"1\" class=\"dataframe\">\n",
       "  <thead>\n",
       "    <tr style=\"text-align: right;\">\n",
       "      <th></th>\n",
       "      <th>Age</th>\n",
       "      <th>City</th>\n",
       "      <th>Current Status</th>\n",
       "      <th>Do you own multiple profiles on Instagram?</th>\n",
       "      <th>Gender</th>\n",
       "      <th>Highest Education</th>\n",
       "      <th>Phone OS</th>\n",
       "      <th>State</th>\n",
       "      <th>How many followers do you have on Instagram? (In case of multiple accounts, please mention the one with the maximum)</th>\n",
       "      <th>How many posts do you have on Instagram?</th>\n",
       "      <th>...</th>\n",
       "      <th>Time Spent on Instagram in last week (in minutes)</th>\n",
       "      <th>Time Spent on Instagram in last weekend (in minutes)</th>\n",
       "      <th>Time Spent on WhatsApp in last week (in minutes)</th>\n",
       "      <th>Time Spent on WhatsApp in last weekend (in minutes)</th>\n",
       "      <th>Total Facebook Usage</th>\n",
       "      <th>Total Instagram Usage</th>\n",
       "      <th>Total Social Media Usage</th>\n",
       "      <th>Total Week Usage</th>\n",
       "      <th>Total Weekend Usage</th>\n",
       "      <th>Total WhatsApp Usage</th>\n",
       "    </tr>\n",
       "  </thead>\n",
       "  <tbody>\n",
       "    <tr>\n",
       "      <th>0</th>\n",
       "      <td>24</td>\n",
       "      <td>Delhi</td>\n",
       "      <td>Working professional</td>\n",
       "      <td>No</td>\n",
       "      <td>Female</td>\n",
       "      <td>Graduation</td>\n",
       "      <td>iOs</td>\n",
       "      <td>Delhi</td>\n",
       "      <td>456</td>\n",
       "      <td>20</td>\n",
       "      <td>...</td>\n",
       "      <td>770</td>\n",
       "      <td>400</td>\n",
       "      <td>900</td>\n",
       "      <td>120</td>\n",
       "      <td>0</td>\n",
       "      <td>1,170</td>\n",
       "      <td>2,190</td>\n",
       "      <td>1,670</td>\n",
       "      <td>520</td>\n",
       "      <td>1,020</td>\n",
       "    </tr>\n",
       "    <tr>\n",
       "      <th>1</th>\n",
       "      <td>39</td>\n",
       "      <td>Delhi</td>\n",
       "      <td>Working professional</td>\n",
       "      <td>No</td>\n",
       "      <td>Female</td>\n",
       "      <td>Post graduation</td>\n",
       "      <td>iOs</td>\n",
       "      <td>Delhi</td>\n",
       "      <td>0</td>\n",
       "      <td>0</td>\n",
       "      <td>...</td>\n",
       "      <td>0</td>\n",
       "      <td>0</td>\n",
       "      <td>5,000</td>\n",
       "      <td>2,000</td>\n",
       "      <td>8,160</td>\n",
       "      <td>0</td>\n",
       "      <td>15,160</td>\n",
       "      <td>11,000</td>\n",
       "      <td>4,160</td>\n",
       "      <td>7,000</td>\n",
       "    </tr>\n",
       "    <tr>\n",
       "      <th>2</th>\n",
       "      <td>22</td>\n",
       "      <td>Mumbai</td>\n",
       "      <td>Working professional</td>\n",
       "      <td>No</td>\n",
       "      <td>Male</td>\n",
       "      <td>Graduation</td>\n",
       "      <td>Android</td>\n",
       "      <td>Maharashtra</td>\n",
       "      <td>400</td>\n",
       "      <td>6</td>\n",
       "      <td>...</td>\n",
       "      <td>1,000</td>\n",
       "      <td>1,000</td>\n",
       "      <td>7,000</td>\n",
       "      <td>2,000</td>\n",
       "      <td>2,500</td>\n",
       "      <td>2,000</td>\n",
       "      <td>13,500</td>\n",
       "      <td>8,500</td>\n",
       "      <td>5,000</td>\n",
       "      <td>9,000</td>\n",
       "    </tr>\n",
       "    <tr>\n",
       "      <th>3</th>\n",
       "      <td>26</td>\n",
       "      <td>Bengaluru</td>\n",
       "      <td>Sabbatical</td>\n",
       "      <td>Yes</td>\n",
       "      <td>Female</td>\n",
       "      <td>Graduation</td>\n",
       "      <td>Android</td>\n",
       "      <td>Karnataka</td>\n",
       "      <td>485</td>\n",
       "      <td>16</td>\n",
       "      <td>...</td>\n",
       "      <td>2,000</td>\n",
       "      <td>2,000</td>\n",
       "      <td>1,680</td>\n",
       "      <td>1,680</td>\n",
       "      <td>3,000</td>\n",
       "      <td>4,000</td>\n",
       "      <td>10,360</td>\n",
       "      <td>5,180</td>\n",
       "      <td>5,180</td>\n",
       "      <td>3,360</td>\n",
       "    </tr>\n",
       "    <tr>\n",
       "      <th>4</th>\n",
       "      <td>50</td>\n",
       "      <td>Delhi</td>\n",
       "      <td>Working professional</td>\n",
       "      <td>No</td>\n",
       "      <td>Male</td>\n",
       "      <td>Graduation</td>\n",
       "      <td>iOs</td>\n",
       "      <td>Delhi</td>\n",
       "      <td>0</td>\n",
       "      <td>0</td>\n",
       "      <td>...</td>\n",
       "      <td>0</td>\n",
       "      <td>0</td>\n",
       "      <td>2,400</td>\n",
       "      <td>1,300</td>\n",
       "      <td>3,000</td>\n",
       "      <td>0</td>\n",
       "      <td>6,700</td>\n",
       "      <td>3,900</td>\n",
       "      <td>2,800</td>\n",
       "      <td>3,700</td>\n",
       "    </tr>\n",
       "  </tbody>\n",
       "</table>\n",
       "<p>5 rows × 22 columns</p>\n",
       "</div>"
      ],
      "text/plain": [
       "   Age       City        Current Status  \\\n",
       "0   24      Delhi  Working professional   \n",
       "1   39      Delhi  Working professional   \n",
       "2   22     Mumbai  Working professional   \n",
       "3   26  Bengaluru            Sabbatical   \n",
       "4   50      Delhi  Working professional   \n",
       "\n",
       "  Do you own multiple profiles on Instagram?  Gender Highest Education  \\\n",
       "0                                         No  Female        Graduation   \n",
       "1                                         No  Female   Post graduation   \n",
       "2                                         No    Male        Graduation   \n",
       "3                                        Yes  Female        Graduation   \n",
       "4                                         No    Male        Graduation   \n",
       "\n",
       "  Phone OS        State  \\\n",
       "0      iOs        Delhi   \n",
       "1      iOs        Delhi   \n",
       "2  Android  Maharashtra   \n",
       "3  Android    Karnataka   \n",
       "4      iOs        Delhi   \n",
       "\n",
       "  How many followers do you have on Instagram? (In case of multiple accounts, please mention the one with the maximum)  \\\n",
       "0                                                456                                                                     \n",
       "1                                                  0                                                                     \n",
       "2                                                400                                                                     \n",
       "3                                                485                                                                     \n",
       "4                                                  0                                                                     \n",
       "\n",
       "  How many posts do you have on Instagram?  ...  \\\n",
       "0                                       20  ...   \n",
       "1                                        0  ...   \n",
       "2                                        6  ...   \n",
       "3                                       16  ...   \n",
       "4                                        0  ...   \n",
       "\n",
       "  Time Spent on Instagram in last week (in minutes)  \\\n",
       "0                                               770   \n",
       "1                                                 0   \n",
       "2                                             1,000   \n",
       "3                                             2,000   \n",
       "4                                                 0   \n",
       "\n",
       "  Time Spent on Instagram in last weekend (in minutes)  \\\n",
       "0                                                400     \n",
       "1                                                  0     \n",
       "2                                              1,000     \n",
       "3                                              2,000     \n",
       "4                                                  0     \n",
       "\n",
       "  Time Spent on WhatsApp in last week (in minutes)  \\\n",
       "0                                              900   \n",
       "1                                            5,000   \n",
       "2                                            7,000   \n",
       "3                                            1,680   \n",
       "4                                            2,400   \n",
       "\n",
       "  Time Spent on WhatsApp in last weekend (in minutes) Total Facebook Usage  \\\n",
       "0                                                120                     0   \n",
       "1                                              2,000                 8,160   \n",
       "2                                              2,000                 2,500   \n",
       "3                                              1,680                 3,000   \n",
       "4                                              1,300                 3,000   \n",
       "\n",
       "  Total Instagram Usage Total Social Media Usage Total Week Usage  \\\n",
       "0                 1,170                    2,190            1,670   \n",
       "1                     0                   15,160           11,000   \n",
       "2                 2,000                   13,500            8,500   \n",
       "3                 4,000                   10,360            5,180   \n",
       "4                     0                    6,700            3,900   \n",
       "\n",
       "  Total Weekend Usage Total WhatsApp Usage  \n",
       "0                 520                1,020  \n",
       "1               4,160                7,000  \n",
       "2               5,000                9,000  \n",
       "3               5,180                3,360  \n",
       "4               2,800                3,700  \n",
       "\n",
       "[5 rows x 22 columns]"
      ]
     },
     "execution_count": 6,
     "metadata": {},
     "output_type": "execute_result"
    }
   ],
   "source": [
    "df.drop(df.columns[[6,9,12,13]], axis = 1, inplace = True)\n",
    "df.head()"
   ]
  },
  {
   "cell_type": "code",
   "execution_count": 7,
   "metadata": {},
   "outputs": [
    {
     "data": {
      "text/plain": [
       "Age                                                                                                                      int64\n",
       "City                                                                                                                    object\n",
       "Current Status                                                                                                          object\n",
       "Do you own multiple profiles on Instagram?                                                                              object\n",
       "Gender                                                                                                                  object\n",
       "Highest Education                                                                                                       object\n",
       "Phone OS                                                                                                                object\n",
       "State                                                                                                                   object\n",
       "How many followers do you have on Instagram? (In case of multiple accounts, please mention the one with the maximum)    object\n",
       "How many posts do you have on Instagram?                                                                                object\n",
       "Time Spent on Facebook in last week (in minutes)                                                                        object\n",
       "Time Spent on Facebook in last weekend (in minutes)                                                                     object\n",
       "Time Spent on Instagram in last week (in minutes)                                                                       object\n",
       "Time Spent on Instagram in last weekend (in minutes)                                                                    object\n",
       "Time Spent on WhatsApp in last week (in minutes)                                                                        object\n",
       "Time Spent on WhatsApp in last weekend (in minutes)                                                                     object\n",
       "Total Facebook Usage                                                                                                    object\n",
       "Total Instagram Usage                                                                                                   object\n",
       "Total Social Media Usage                                                                                                object\n",
       "Total Week Usage                                                                                                        object\n",
       "Total Weekend Usage                                                                                                     object\n",
       "Total WhatsApp Usage                                                                                                    object\n",
       "dtype: object"
      ]
     },
     "execution_count": 7,
     "metadata": {},
     "output_type": "execute_result"
    }
   ],
   "source": [
    "df.dtypes"
   ]
  },
  {
   "cell_type": "code",
   "execution_count": 8,
   "metadata": {},
   "outputs": [],
   "source": [
    "def convert_to_num(x):\n",
    "    x = x.replace(',','')\n",
    "    return pd.to_numeric(x)"
   ]
  },
  {
   "cell_type": "code",
   "execution_count": 9,
   "metadata": {},
   "outputs": [],
   "source": [
    "df['Time Spent on Facebook in last week (in minutes)'] = df['Time Spent on Facebook in last week (in minutes)'].map(convert_to_num)\n",
    "df['Time Spent on Facebook in last weekend (in minutes)'] = df['Time Spent on Facebook in last weekend (in minutes)'].map(convert_to_num)\n",
    "df['Time Spent on Instagram in last week (in minutes)'] = df['Time Spent on Instagram in last week (in minutes)'].map(convert_to_num)\n",
    "df['Time Spent on Instagram in last weekend (in minutes)'] = df['Time Spent on Instagram in last weekend (in minutes)'].map(convert_to_num)\n",
    "df['Time Spent on WhatsApp in last week (in minutes)'] = df['Time Spent on WhatsApp in last week (in minutes)'].map(convert_to_num)\n",
    "df['Time Spent on WhatsApp in last weekend (in minutes)'] = df['Time Spent on WhatsApp in last weekend (in minutes)'].map(convert_to_num)\n",
    "df['Total Social Media Usage'] = df['Total Social Media Usage'].map(convert_to_num)\n",
    "df['Total Facebook Usage'] = df['Total Facebook Usage'].map(convert_to_num)\n",
    "df['Total Instagram Usage'] = df['Total Instagram Usage'].map(convert_to_num)\n",
    "df['Total Week Usage'] = df['Total Week Usage'].map(convert_to_num)\n",
    "df['Total Weekend Usage'] = df['Total Weekend Usage'].map(convert_to_num)\n",
    "df['Total WhatsApp Usage'] = df['Total WhatsApp Usage'].map(convert_to_num)\n",
    "df['How many posts do you have on Instagram?'] = df['How many posts do you have on Instagram?'].map(convert_to_num)\n",
    "df['How many followers do you have on Instagram? (In case of multiple accounts, please mention the one with the maximum)'] = df['How many followers do you have on Instagram? (In case of multiple accounts, please mention the one with the maximum)'].map(convert_to_num)"
   ]
  },
  {
   "cell_type": "code",
   "execution_count": 10,
   "metadata": {},
   "outputs": [],
   "source": [
    "df['City']=df['City'].astype(str)\n",
    "df['Highest Education']=df['Highest Education'].astype(str)\n",
    "df['Current Status']=df['Current Status'].astype(str)\n",
    "df['Do you own multiple profiles on Instagram?']=df['Do you own multiple profiles on Instagram?'].astype(str)\n",
    "df['Phone OS']=df['Phone OS'].astype(str)\n",
    "df['State']=df['State'].astype(str)"
   ]
  },
  {
   "cell_type": "code",
   "execution_count": 11,
   "metadata": {},
   "outputs": [
    {
     "data": {
      "text/plain": [
       "Index(['Age', 'City', 'Current Status',\n",
       "       'Do you own multiple profiles on Instagram?', 'Gender',\n",
       "       'Highest Education', 'Phone OS', 'State', 'Instagram Followers',\n",
       "       'Instagram Posts', 'Time Spent on Facebook in last week',\n",
       "       'Time Spent on Facebook in last weekend',\n",
       "       'Time Spent on Instagram in last week',\n",
       "       'Time Spent on Instagram in last weekend',\n",
       "       'Time Spent on WhatsApp in last week',\n",
       "       'Time Spent on WhatsApp in last weekend', 'Total Facebook Usage',\n",
       "       'Total Instagram Usage', 'Total Social Media Usage', 'Total Week Usage',\n",
       "       'Total Weekend Usage', 'Total WhatsApp Usage'],\n",
       "      dtype='object')"
      ]
     },
     "execution_count": 11,
     "metadata": {},
     "output_type": "execute_result"
    }
   ],
   "source": [
    "df = df.rename(columns={\n",
    "    'How many followers do you have on Instagram? (In case of multiple accounts, please mention the one with the maximum)':'Instagram Followers',\n",
    "    'How many posts do you have on Instagram?':'Instagram Posts','Time Spent on Facebook in last week (in minutes)':'Time Spent on Facebook in last week',\n",
    "    'Time Spent on Facebook in last weekend (in minutes)':'Time Spent on Facebook in last weekend',\n",
    "    'Time Spent on Instagram in last week (in minutes)':'Time Spent on Instagram in last week',\n",
    "    'Time Spent on Instagram in last weekend (in minutes)':'Time Spent on Instagram in last weekend',\n",
    "    'Time Spent on WhatsApp in last week (in minutes)':'Time Spent on WhatsApp in last week',\n",
    "    'Time Spent on WhatsApp in last weekend (in minutes)':'Time Spent on WhatsApp in last weekend'\n",
    "})\n",
    "df.columns"
   ]
  },
  {
   "cell_type": "code",
   "execution_count": 12,
   "metadata": {},
   "outputs": [
    {
     "data": {
      "text/plain": [
       "Age                                             int64\n",
       "City                                           object\n",
       "Current Status                                 object\n",
       "Do you own multiple profiles on Instagram?     object\n",
       "Gender                                         object\n",
       "Highest Education                              object\n",
       "Phone OS                                       object\n",
       "State                                          object\n",
       "Instagram Followers                             int64\n",
       "Instagram Posts                                 int64\n",
       "Time Spent on Facebook in last week             int64\n",
       "Time Spent on Facebook in last weekend          int64\n",
       "Time Spent on Instagram in last week            int64\n",
       "Time Spent on Instagram in last weekend         int64\n",
       "Time Spent on WhatsApp in last week             int64\n",
       "Time Spent on WhatsApp in last weekend        float64\n",
       "Total Facebook Usage                            int64\n",
       "Total Instagram Usage                           int64\n",
       "Total Social Media Usage                      float64\n",
       "Total Week Usage                                int64\n",
       "Total Weekend Usage                           float64\n",
       "Total WhatsApp Usage                          float64\n",
       "dtype: object"
      ]
     },
     "execution_count": 12,
     "metadata": {},
     "output_type": "execute_result"
    }
   ],
   "source": [
    "df.dtypes"
   ]
  },
  {
   "cell_type": "markdown",
   "metadata": {},
   "source": [
    "Visualizations."
   ]
  },
  {
   "cell_type": "code",
   "execution_count": 13,
   "metadata": {},
   "outputs": [
    {
     "data": {
      "image/png": "[encoded data removed]",
      "text/plain": [
       "<Figure size 640x480 with 1 Axes>"
      ]
     },
     "metadata": {},
     "output_type": "display_data"
    }
   ],
   "source": [
    "\n",
    "import numpy as np\n",
    "import matplotlib.pyplot as plt\n",
    "\n",
    "gender = list(df['Gender'])\n",
    "\n",
    "usage = list(df['Total Social Media Usage'])\n",
    "\n",
    "\n",
    "plt.bar(gender, usage, color ='maroon',\n",
    "\t\twidth = 0.4)\n",
    "\n",
    "plt.xlabel(\"Gender\")\n",
    "plt.ylabel(\"Social Media Usage\")\n",
    "plt.title(\"Social media usage vs Gender\")\n",
    "plt.show()"
   ]
  },
  {
   "cell_type": "code",
   "execution_count": 14,
   "metadata": {},
   "outputs": [
    {
     "data": {
      "image/png": "[encoded data removed]",
      "text/plain": [
       "<Figure size 640x480 with 1 Axes>"
      ]
     },
     "metadata": {},
     "output_type": "display_data"
    }
   ],
   "source": [
    "data_c = df[df['Current Status']=='Working professional']\n",
    "data_c = df[['Total Week Usage','Total Weekend Usage']]\n",
    "import matplotlib.pyplot as plt\n",
    "\n",
    "plt.hist([data_c['Total Week Usage'], data_c['Total Weekend Usage']],label=['Total Week Usage','Total Weekend Usage'])\n",
    "plt.legend(loc='upper right')\n",
    "plt.show()"
   ]
  },
  {
   "cell_type": "code",
   "execution_count": 15,
   "metadata": {},
   "outputs": [
    {
     "data": {
      "text/plain": [
       "[<matplotlib.lines.Line2D at 0x17675ecd0d0>]"
      ]
     },
     "execution_count": 15,
     "metadata": {},
     "output_type": "execute_result"
    },
    {
     "data": {
      "image/png": "[encoded data removed]",
      "text/plain": [
       "<Figure size 640x480 with 1 Axes>"
      ]
     },
     "metadata": {},
     "output_type": "display_data"
    }
   ],
   "source": [
    "from collections import OrderedDict\n",
    "\n",
    "def pmf(seq):\n",
    "    freq_dict = {}\n",
    "    for i in seq:\n",
    "        if i in freq_dict:\n",
    "            freq_dict[i]+=1\n",
    "        else:\n",
    "            freq_dict[i]=1\n",
    "    N = len(seq)\n",
    "    pmf_dict={}\n",
    "    for k,v in freq_dict.items():\n",
    "        pmf_dict[k]=v/N\n",
    "    return pmf_dict\n",
    "\n",
    "pmf_week_usage = pmf(data_c['Total Week Usage'])\n",
    "pmf_weekend_usage = pmf(data_c['Total Weekend Usage'])\n",
    "\n",
    "pmf_week_usage_sorted = OrderedDict(sorted(pmf_week_usage.items()))\n",
    "pmf_weekend_usage_sorted = OrderedDict(sorted(pmf_weekend_usage.items()))\n",
    "\n",
    "plt.step(list(pmf_week_usage_sorted.keys()),list(pmf_week_usage_sorted.values()), label=\"Total Week Usage\")\n",
    "plt.step(list(pmf_weekend_usage_sorted.keys()),list(pmf_weekend_usage_sorted.values()), label=\"Total Weekend Usage\")"
   ]
  },
  {
   "cell_type": "code",
   "execution_count": 16,
   "metadata": {},
   "outputs": [
    {
     "name": "stderr",
     "output_type": "stream",
     "text": [
      "C:\\Users\\Hp\\AppData\\Local\\Temp\\ipykernel_17268\\3355023848.py:5: SettingWithCopyWarning: \n",
      "A value is trying to be set on a copy of a slice from a DataFrame.\n",
      "Try using .loc[row_indexer,col_indexer] = value instead\n",
      "\n",
      "See the caveats in the documentation: https://pandas.pydata.org/pandas-docs/stable/user_guide/indexing.html#returning-a-view-versus-a-copy\n",
      "  data_c['Total Facebook Usage'] = data_c['Total Facebook Usage']\n",
      "C:\\Users\\Hp\\AppData\\Local\\Temp\\ipykernel_17268\\3355023848.py:6: SettingWithCopyWarning: \n",
      "A value is trying to be set on a copy of a slice from a DataFrame.\n",
      "Try using .loc[row_indexer,col_indexer] = value instead\n",
      "\n",
      "See the caveats in the documentation: https://pandas.pydata.org/pandas-docs/stable/user_guide/indexing.html#returning-a-view-versus-a-copy\n",
      "  data_c['Total Instagram Usage'] = data_c['Total Instagram Usage']\n",
      "C:\\Users\\Hp\\AppData\\Local\\Temp\\ipykernel_17268\\3355023848.py:7: SettingWithCopyWarning: \n",
      "A value is trying to be set on a copy of a slice from a DataFrame.\n",
      "Try using .loc[row_indexer,col_indexer] = value instead\n",
      "\n",
      "See the caveats in the documentation: https://pandas.pydata.org/pandas-docs/stable/user_guide/indexing.html#returning-a-view-versus-a-copy\n",
      "  data_c['Total Social Media Usage'] = data_c['Total Social Media Usage']\n"
     ]
    },
    {
     "data": {
      "text/plain": [
       "{'bodies': [<matplotlib.collections.PolyCollection at 0x176752f9a50>,\n",
       "  <matplotlib.collections.PolyCollection at 0x1767329c110>,\n",
       "  <matplotlib.collections.PolyCollection at 0x1767329e650>],\n",
       " 'cmeans': <matplotlib.collections.LineCollection at 0x1767329d1d0>,\n",
       " 'cmaxes': <matplotlib.collections.LineCollection at 0x1767327c490>,\n",
       " 'cmins': <matplotlib.collections.LineCollection at 0x1767327cbd0>,\n",
       " 'cbars': <matplotlib.collections.LineCollection at 0x176732657d0>}"
      ]
     },
     "execution_count": 16,
     "metadata": {},
     "output_type": "execute_result"
    },
    {
     "data": {
      "image/png": "[encoded data removed]",
      "text/plain": [
       "<Figure size 640x480 with 1 Axes>"
      ]
     },
     "metadata": {},
     "output_type": "display_data"
    }
   ],
   "source": [
    "#Hypothesis : people are shifting to Instagram from Facebook as a new trend.\n",
    "\n",
    "# Get the appropriate data in a seperate frame\n",
    "data_c = df[['Total Facebook Usage', 'Total Instagram Usage', 'Total Social Media Usage']]\n",
    "data_c['Total Facebook Usage'] = data_c['Total Facebook Usage']\n",
    "data_c['Total Instagram Usage'] = data_c['Total Instagram Usage']\n",
    "data_c['Total Social Media Usage'] = data_c['Total Social Media Usage']\n",
    "plt.violinplot(data_c, showmeans=True)"
   ]
  },
  {
   "cell_type": "markdown",
   "metadata": {},
   "source": [
    "Linear Regression to figure out the total social media usage in Last Week for all the three platforms."
   ]
  },
  {
   "cell_type": "code",
   "execution_count": 17,
   "metadata": {},
   "outputs": [],
   "source": [
    "x = df[['Time Spent on Facebook in last week','Time Spent on Instagram in last week','Time Spent on WhatsApp in last week']]\n",
    "y = df['Total Social Media Usage']"
   ]
  },
  {
   "cell_type": "code",
   "execution_count": 18,
   "metadata": {},
   "outputs": [
    {
     "name": "stdout",
     "output_type": "stream",
     "text": [
      "Cross Validation Scores are [0.88616085 0.93281345 0.95660633 0.94087733 0.92694618]\n",
      "Average Cross Validation score :0.9286808293758915\n",
      "[1.27482138 1.34243499 1.23747459]\n",
      "170.56595798888543\n"
     ]
    }
   ],
   "source": [
    "from sklearn.model_selection import train_test_split\n",
    "from sklearn.model_selection import cross_val_score,KFold\n",
    "x_train, x_test, y_train, y_test = train_test_split(x, y, test_size = 0.3)\n",
    "from sklearn.linear_model import LinearRegression\n",
    "model = LinearRegression()\n",
    "\n",
    "model.fit(x_train, y_train)\n",
    "kf=KFold(n_splits=5)\n",
    "score=cross_val_score(model,x,y,cv=kf)\n",
    "print(\"Cross Validation Scores are {}\".format(score))\n",
    "print(\"Average Cross Validation score :{}\".format(score.mean()))\n",
    "print(model.coef_)\n",
    "print(model.intercept_)"
   ]
  },
  {
   "cell_type": "code",
   "execution_count": 19,
   "metadata": {},
   "outputs": [
    {
     "name": "stdout",
     "output_type": "stream",
     "text": [
      "1306    4180.0\n",
      "254     1124.0\n",
      "1606    2024.0\n",
      "188     5555.0\n",
      "1441    1450.0\n",
      "         ...  \n",
      "1511    2355.0\n",
      "1489    1741.0\n",
      "459     1195.0\n",
      "1570    7290.0\n",
      "325     1632.0\n",
      "Name: Total Social Media Usage, Length: 489, dtype: float64\n",
      "6117.241306273663\n"
     ]
    }
   ],
   "source": [
    "predictions = model.predict(x_test)\n",
    "print(y_test)\n",
    "print(predictions[3])"
   ]
  },
  {
   "cell_type": "code",
   "execution_count": 20,
   "metadata": {},
   "outputs": [
    {
     "data": {
      "text/plain": [
       "(array([  3.,   1.,  24., 371.,  72.,   8.,   6.,   2.,   1.,   1.]),\n",
       " array([-2122.65049134, -1559.04797527,  -995.4454592 ,  -431.84294314,\n",
       "          131.75957293,   695.362089  ,  1258.96460507,  1822.56712114,\n",
       "         2386.16963721,  2949.77215328,  3513.37466935]),\n",
       " <BarContainer object of 10 artists>)"
      ]
     },
     "execution_count": 20,
     "metadata": {},
     "output_type": "execute_result"
    },
    {
     "data": {
      "image/png": "[encoded data removed]",
      "text/plain": [
       "<Figure size 640x480 with 1 Axes>"
      ]
     },
     "metadata": {},
     "output_type": "display_data"
    }
   ],
   "source": [
    "plt.hist(y_test - predictions)"
   ]
  },
  {
   "cell_type": "code",
   "execution_count": 21,
   "metadata": {},
   "outputs": [
    {
     "data": {
      "text/plain": [
       "243.98819226079027"
      ]
     },
     "execution_count": 21,
     "metadata": {},
     "output_type": "execute_result"
    }
   ],
   "source": [
    "from sklearn import metrics\n",
    "metrics.mean_absolute_error(y_test, predictions)"
   ]
  },
  {
   "cell_type": "code",
   "execution_count": 22,
   "metadata": {},
   "outputs": [
    {
     "name": "stdout",
     "output_type": "stream",
     "text": [
      "0.9385255559159555\n",
      "93.85255559159556 %\n"
     ]
    }
   ],
   "source": [
    "r2_score = model.score(x_test,y_test)\n",
    "print(r2_score)\n",
    "print(r2_score*100,'%')"
   ]
  },
  {
   "cell_type": "code",
   "execution_count": 23,
   "metadata": {},
   "outputs": [
    {
     "name": "stdout",
     "output_type": "stream",
     "text": [
      "175502.81224145184\n",
      "17550281.224145185\n"
     ]
    }
   ],
   "source": [
    "from sklearn.metrics import mean_squared_error\n",
    "error=mean_squared_error(y_test,predictions)\n",
    "print(error)\n",
    "print(error*100)"
   ]
  },
  {
   "cell_type": "markdown",
   "metadata": {},
   "source": [
    "Linear Regression to figure out the total social media usage in Last Weekend for all the three platforms."
   ]
  },
  {
   "cell_type": "code",
   "execution_count": 24,
   "metadata": {},
   "outputs": [],
   "source": [
    "x = df[['Time Spent on Facebook in last weekend','Time Spent on Instagram in last weekend','Time Spent on WhatsApp in last weekend']]\n",
    "y = df['Total Social Media Usage']"
   ]
  },
  {
   "cell_type": "code",
   "execution_count": 25,
   "metadata": {},
   "outputs": [
    {
     "name": "stdout",
     "output_type": "stream",
     "text": [
      "Cross Validation Scores are [0.54081421 0.54950756 0.6064657  0.63390186 0.62823263]\n",
      "Average Cross Validation score :0.5917843935646456\n",
      "[3.06706722 2.27123996 2.54162353]\n",
      "613.6981974993505\n"
     ]
    }
   ],
   "source": [
    "from sklearn.model_selection import train_test_split\n",
    "from sklearn.model_selection import cross_val_score,KFold\n",
    "x_train, x_test, y_train, y_test = train_test_split(x, y, test_size = 0.3)\n",
    "from sklearn.linear_model import LinearRegression\n",
    "model = LinearRegression()\n",
    "\n",
    "model.fit(x_train, y_train)\n",
    "kf=KFold(n_splits=5)\n",
    "score=cross_val_score(model,x,y,cv=kf)\n",
    "print(\"Cross Validation Scores are {}\".format(score))\n",
    "print(\"Average Cross Validation score :{}\".format(score.mean()))\n",
    "print(model.coef_)\n",
    "print(model.intercept_)"
   ]
  },
  {
   "cell_type": "code",
   "execution_count": 26,
   "metadata": {},
   "outputs": [
    {
     "name": "stdout",
     "output_type": "stream",
     "text": [
      "1013     840.0\n",
      "971     2221.0\n",
      "201     1096.0\n",
      "1112    1717.0\n",
      "1604     720.0\n",
      "         ...  \n",
      "576     1485.0\n",
      "960     2989.0\n",
      "77      3320.0\n",
      "1018    1052.0\n",
      "1241    1455.0\n",
      "Name: Total Social Media Usage, Length: 489, dtype: float64\n",
      "1916.3617211913645\n"
     ]
    }
   ],
   "source": [
    "predictions = model.predict(x_test)\n",
    "print(y_test)\n",
    "print(predictions[3])"
   ]
  },
  {
   "cell_type": "code",
   "execution_count": 27,
   "metadata": {},
   "outputs": [
    {
     "data": {
      "text/plain": [
       "(array([  4.,  20., 333.,  96.,  18.,  12.,   5.,   0.,   0.,   1.]),\n",
       " array([-3682.80164649, -2350.41676401, -1018.03188153,   314.35300095,\n",
       "         1646.73788343,  2979.12276592,  4311.5076484 ,  5643.89253088,\n",
       "         6976.27741336,  8308.66229584,  9641.04717832]),\n",
       " <BarContainer object of 10 artists>)"
      ]
     },
     "execution_count": 27,
     "metadata": {},
     "output_type": "execute_result"
    },
    {
     "data": {
      "image/png": "[encoded data removed]",
      "text/plain": [
       "<Figure size 640x480 with 1 Axes>"
      ]
     },
     "metadata": {},
     "output_type": "display_data"
    }
   ],
   "source": [
    "plt.hist(y_test - predictions)"
   ]
  },
  {
   "cell_type": "code",
   "execution_count": 28,
   "metadata": {},
   "outputs": [
    {
     "data": {
      "text/plain": [
       "729.6462019402295"
      ]
     },
     "execution_count": 28,
     "metadata": {},
     "output_type": "execute_result"
    }
   ],
   "source": [
    "from sklearn import metrics\n",
    "metrics.mean_absolute_error(y_test, predictions)"
   ]
  },
  {
   "cell_type": "code",
   "execution_count": 29,
   "metadata": {},
   "outputs": [
    {
     "name": "stdout",
     "output_type": "stream",
     "text": [
      "0.6481062381376288\n",
      "64.81062381376287 %\n"
     ]
    }
   ],
   "source": [
    "r2_score = model.score(x_test,y_test)\n",
    "print(r2_score)\n",
    "print(r2_score*100,'%')"
   ]
  },
  {
   "cell_type": "code",
   "execution_count": 30,
   "metadata": {},
   "outputs": [
    {
     "name": "stdout",
     "output_type": "stream",
     "text": [
      "1462251.1603705196\n",
      "146225116.03705198\n"
     ]
    }
   ],
   "source": [
    "from sklearn.metrics import mean_squared_error\n",
    "error=mean_squared_error(y_test,predictions)\n",
    "print(error)\n",
    "print(error*100)"
   ]
  },
  {
   "cell_type": "markdown",
   "metadata": {},
   "source": [
    "XGBOOST - To improve the performance for the total social media usage in Last Week for all the three platforms."
   ]
  },
  {
   "cell_type": "code",
   "execution_count": 31,
   "metadata": {},
   "outputs": [],
   "source": [
    "import pandas as pd\n",
    "from sklearn.model_selection import train_test_split\n",
    "from sklearn.impute import SimpleImputer\n",
    "from xgboost import XGBRFRegressor\n",
    "imputer = SimpleImputer(missing_values=np.nan, strategy='mean')\n",
    "\n",
    "x = df[['Time Spent on Facebook in last weekend','Time Spent on Instagram in last weekend','Time Spent on WhatsApp in last weekend']]\n",
    "y = df['Total Social Media Usage']"
   ]
  },
  {
   "cell_type": "code",
   "execution_count": 32,
   "metadata": {},
   "outputs": [],
   "source": [
    "x_train, x_test, y_train, y_test = train_test_split(x, y, test_size=0.3)\n",
    "\n",
    "my_imputer = SimpleImputer()\n",
    "x_train = my_imputer.fit_transform(x_train)\n",
    "x_test = my_imputer.transform(x_test)"
   ]
  },
  {
   "cell_type": "code",
   "execution_count": 33,
   "metadata": {},
   "outputs": [
    {
     "data": {
      "text/html": [
       "<style>#sk-container-id-1 {\n",
       "  /* Definition of color scheme common for light and dark mode */\n",
       "  --sklearn-color-text: black;\n",
       "  --sklearn-color-line: gray;\n",
       "  /* Definition of color scheme for unfitted estimators */\n",
       "  --sklearn-color-unfitted-level-0: #fff5e6;\n",
       "  --sklearn-color-unfitted-level-1: #f6e4d2;\n",
       "  --sklearn-color-unfitted-level-2: #ffe0b3;\n",
       "  --sklearn-color-unfitted-level-3: chocolate;\n",
       "  /* Definition of color scheme for fitted estimators */\n",
       "  --sklearn-color-fitted-level-0: #f0f8ff;\n",
       "  --sklearn-color-fitted-level-1: #d4ebff;\n",
       "  --sklearn-color-fitted-level-2: #b3dbfd;\n",
       "  --sklearn-color-fitted-level-3: cornflowerblue;\n",
       "\n",
       "  /* Specific color for light theme */\n",
       "  --sklearn-color-text-on-default-background: var(--sg-text-color, var(--theme-code-foreground, var(--jp-content-font-color1, black)));\n",
       "  --sklearn-color-background: var(--sg-background-color, var(--theme-background, var(--jp-layout-color0, white)));\n",
       "  --sklearn-color-border-box: var(--sg-text-color, var(--theme-code-foreground, var(--jp-content-font-color1, black)));\n",
       "  --sklearn-color-icon: #696969;\n",
       "\n",
       "  @media (prefers-color-scheme: dark) {\n",
       "    /* Redefinition of color scheme for dark theme */\n",
       "    --sklearn-color-text-on-default-background: var(--sg-text-color, var(--theme-code-foreground, var(--jp-content-font-color1, white)));\n",
       "    --sklearn-color-background: var(--sg-background-color, var(--theme-background, var(--jp-layout-color0, #111)));\n",
       "    --sklearn-color-border-box: var(--sg-text-color, var(--theme-code-foreground, var(--jp-content-font-color1, white)));\n",
       "    --sklearn-color-icon: #878787;\n",
       "  }\n",
       "}\n",
       "\n",
       "#sk-container-id-1 {\n",
       "  color: var(--sklearn-color-text);\n",
       "}\n",
       "\n",
       "#sk-container-id-1 pre {\n",
       "  padding: 0;\n",
       "}\n",
       "\n",
       "#sk-container-id-1 input.sk-hidden--visually {\n",
       "  border: 0;\n",
       "  clip: rect(1px 1px 1px 1px);\n",
       "  clip: rect(1px, 1px, 1px, 1px);\n",
       "  height: 1px;\n",
       "  margin: -1px;\n",
       "  overflow: hidden;\n",
       "  padding: 0;\n",
       "  position: absolute;\n",
       "  width: 1px;\n",
       "}\n",
       "\n",
       "#sk-container-id-1 div.sk-dashed-wrapped {\n",
       "  border: 1px dashed var(--sklearn-color-line);\n",
       "  margin: 0 0.4em 0.5em 0.4em;\n",
       "  box-sizing: border-box;\n",
       "  padding-bottom: 0.4em;\n",
       "  background-color: var(--sklearn-color-background);\n",
       "}\n",
       "\n",
       "#sk-container-id-1 div.sk-container {\n",
       "  /* jupyter's `normalize.less` sets `[hidden] { display: none; }`\n",
       "     but bootstrap.min.css set `[hidden] { display: none !important; }`\n",
       "     so we also need the `!important` here to be able to override the\n",
       "     default hidden behavior on the sphinx rendered scikit-learn.org.\n",
       "     See: https://github.com/scikit-learn/scikit-learn/issues/21755 */\n",
       "  display: inline-block !important;\n",
       "  position: relative;\n",
       "}\n",
       "\n",
       "#sk-container-id-1 div.sk-text-repr-fallback {\n",
       "  display: none;\n",
       "}\n",
       "\n",
       "div.sk-parallel-item,\n",
       "div.sk-serial,\n",
       "div.sk-item {\n",
       "  /* draw centered vertical line to link estimators */\n",
       "  background-image: linear-gradient(var(--sklearn-color-text-on-default-background), var(--sklearn-color-text-on-default-background));\n",
       "  background-size: 2px 100%;\n",
       "  background-repeat: no-repeat;\n",
       "  background-position: center center;\n",
       "}\n",
       "\n",
       "/* Parallel-specific style estimator block */\n",
       "\n",
       "#sk-container-id-1 div.sk-parallel-item::after {\n",
       "  content: \"\";\n",
       "  width: 100%;\n",
       "  border-bottom: 2px solid var(--sklearn-color-text-on-default-background);\n",
       "  flex-grow: 1;\n",
       "}\n",
       "\n",
       "#sk-container-id-1 div.sk-parallel {\n",
       "  display: flex;\n",
       "  align-items: stretch;\n",
       "  justify-content: center;\n",
       "  background-color: var(--sklearn-color-background);\n",
       "  position: relative;\n",
       "}\n",
       "\n",
       "#sk-container-id-1 div.sk-parallel-item {\n",
       "  display: flex;\n",
       "  flex-direction: column;\n",
       "}\n",
       "\n",
       "#sk-container-id-1 div.sk-parallel-item:first-child::after {\n",
       "  align-self: flex-end;\n",
       "  width: 50%;\n",
       "}\n",
       "\n",
       "#sk-container-id-1 div.sk-parallel-item:last-child::after {\n",
       "  align-self: flex-start;\n",
       "  width: 50%;\n",
       "}\n",
       "\n",
       "#sk-container-id-1 div.sk-parallel-item:only-child::after {\n",
       "  width: 0;\n",
       "}\n",
       "\n",
       "/* Serial-specific style estimator block */\n",
       "\n",
       "#sk-container-id-1 div.sk-serial {\n",
       "  display: flex;\n",
       "  flex-direction: column;\n",
       "  align-items: center;\n",
       "  background-color: var(--sklearn-color-background);\n",
       "  padding-right: 1em;\n",
       "  padding-left: 1em;\n",
       "}\n",
       "\n",
       "\n",
       "/* Toggleable style: style used for estimator/Pipeline/ColumnTransformer box that is\n",
       "clickable and can be expanded/collapsed.\n",
       "- Pipeline and ColumnTransformer use this feature and define the default style\n",
       "- Estimators will overwrite some part of the style using the `sk-estimator` class\n",
       "*/\n",
       "\n",
       "/* Pipeline and ColumnTransformer style (default) */\n",
       "\n",
       "#sk-container-id-1 div.sk-toggleable {\n",
       "  /* Default theme specific background. It is overwritten whether we have a\n",
       "  specific estimator or a Pipeline/ColumnTransformer */\n",
       "  background-color: var(--sklearn-color-background);\n",
       "}\n",
       "\n",
       "/* Toggleable label */\n",
       "#sk-container-id-1 label.sk-toggleable__label {\n",
       "  cursor: pointer;\n",
       "  display: block;\n",
       "  width: 100%;\n",
       "  margin-bottom: 0;\n",
       "  padding: 0.5em;\n",
       "  box-sizing: border-box;\n",
       "  text-align: center;\n",
       "}\n",
       "\n",
       "#sk-container-id-1 label.sk-toggleable__label-arrow:before {\n",
       "  /* Arrow on the left of the label */\n",
       "  content: \"▸\";\n",
       "  float: left;\n",
       "  margin-right: 0.25em;\n",
       "  color: var(--sklearn-color-icon);\n",
       "}\n",
       "\n",
       "#sk-container-id-1 label.sk-toggleable__label-arrow:hover:before {\n",
       "  color: var(--sklearn-color-text);\n",
       "}\n",
       "\n",
       "/* Toggleable content - dropdown */\n",
       "\n",
       "#sk-container-id-1 div.sk-toggleable__content {\n",
       "  max-height: 0;\n",
       "  max-width: 0;\n",
       "  overflow: hidden;\n",
       "  text-align: left;\n",
       "  /* unfitted */\n",
       "  background-color: var(--sklearn-color-unfitted-level-0);\n",
       "}\n",
       "\n",
       "#sk-container-id-1 div.sk-toggleable__content.fitted {\n",
       "  /* fitted */\n",
       "  background-color: var(--sklearn-color-fitted-level-0);\n",
       "}\n",
       "\n",
       "#sk-container-id-1 div.sk-toggleable__content pre {\n",
       "  margin: 0.2em;\n",
       "  border-radius: 0.25em;\n",
       "  color: var(--sklearn-color-text);\n",
       "  /* unfitted */\n",
       "  background-color: var(--sklearn-color-unfitted-level-0);\n",
       "}\n",
       "\n",
       "#sk-container-id-1 div.sk-toggleable__content.fitted pre {\n",
       "  /* unfitted */\n",
       "  background-color: var(--sklearn-color-fitted-level-0);\n",
       "}\n",
       "\n",
       "#sk-container-id-1 input.sk-toggleable__control:checked~div.sk-toggleable__content {\n",
       "  /* Expand drop-down */\n",
       "  max-height: 200px;\n",
       "  max-width: 100%;\n",
       "  overflow: auto;\n",
       "}\n",
       "\n",
       "#sk-container-id-1 input.sk-toggleable__control:checked~label.sk-toggleable__label-arrow:before {\n",
       "  content: \"▾\";\n",
       "}\n",
       "\n",
       "/* Pipeline/ColumnTransformer-specific style */\n",
       "\n",
       "#sk-container-id-1 div.sk-label input.sk-toggleable__control:checked~label.sk-toggleable__label {\n",
       "  color: var(--sklearn-color-text);\n",
       "  background-color: var(--sklearn-color-unfitted-level-2);\n",
       "}\n",
       "\n",
       "#sk-container-id-1 div.sk-label.fitted input.sk-toggleable__control:checked~label.sk-toggleable__label {\n",
       "  background-color: var(--sklearn-color-fitted-level-2);\n",
       "}\n",
       "\n",
       "/* Estimator-specific style */\n",
       "\n",
       "/* Colorize estimator box */\n",
       "#sk-container-id-1 div.sk-estimator input.sk-toggleable__control:checked~label.sk-toggleable__label {\n",
       "  /* unfitted */\n",
       "  background-color: var(--sklearn-color-unfitted-level-2);\n",
       "}\n",
       "\n",
       "#sk-container-id-1 div.sk-estimator.fitted input.sk-toggleable__control:checked~label.sk-toggleable__label {\n",
       "  /* fitted */\n",
       "  background-color: var(--sklearn-color-fitted-level-2);\n",
       "}\n",
       "\n",
       "#sk-container-id-1 div.sk-label label.sk-toggleable__label,\n",
       "#sk-container-id-1 div.sk-label label {\n",
       "  /* The background is the default theme color */\n",
       "  color: var(--sklearn-color-text-on-default-background);\n",
       "}\n",
       "\n",
       "/* On hover, darken the color of the background */\n",
       "#sk-container-id-1 div.sk-label:hover label.sk-toggleable__label {\n",
       "  color: var(--sklearn-color-text);\n",
       "  background-color: var(--sklearn-color-unfitted-level-2);\n",
       "}\n",
       "\n",
       "/* Label box, darken color on hover, fitted */\n",
       "#sk-container-id-1 div.sk-label.fitted:hover label.sk-toggleable__label.fitted {\n",
       "  color: var(--sklearn-color-text);\n",
       "  background-color: var(--sklearn-color-fitted-level-2);\n",
       "}\n",
       "\n",
       "/* Estimator label */\n",
       "\n",
       "#sk-container-id-1 div.sk-label label {\n",
       "  font-family: monospace;\n",
       "  font-weight: bold;\n",
       "  display: inline-block;\n",
       "  line-height: 1.2em;\n",
       "}\n",
       "\n",
       "#sk-container-id-1 div.sk-label-container {\n",
       "  text-align: center;\n",
       "}\n",
       "\n",
       "/* Estimator-specific */\n",
       "#sk-container-id-1 div.sk-estimator {\n",
       "  font-family: monospace;\n",
       "  border: 1px dotted var(--sklearn-color-border-box);\n",
       "  border-radius: 0.25em;\n",
       "  box-sizing: border-box;\n",
       "  margin-bottom: 0.5em;\n",
       "  /* unfitted */\n",
       "  background-color: var(--sklearn-color-unfitted-level-0);\n",
       "}\n",
       "\n",
       "#sk-container-id-1 div.sk-estimator.fitted {\n",
       "  /* fitted */\n",
       "  background-color: var(--sklearn-color-fitted-level-0);\n",
       "}\n",
       "\n",
       "/* on hover */\n",
       "#sk-container-id-1 div.sk-estimator:hover {\n",
       "  /* unfitted */\n",
       "  background-color: var(--sklearn-color-unfitted-level-2);\n",
       "}\n",
       "\n",
       "#sk-container-id-1 div.sk-estimator.fitted:hover {\n",
       "  /* fitted */\n",
       "  background-color: var(--sklearn-color-fitted-level-2);\n",
       "}\n",
       "\n",
       "/* Specification for estimator info (e.g. \"i\" and \"?\") */\n",
       "\n",
       "/* Common style for \"i\" and \"?\" */\n",
       "\n",
       ".sk-estimator-doc-link,\n",
       "a:link.sk-estimator-doc-link,\n",
       "a:visited.sk-estimator-doc-link {\n",
       "  float: right;\n",
       "  font-size: smaller;\n",
       "  line-height: 1em;\n",
       "  font-family: monospace;\n",
       "  background-color: var(--sklearn-color-background);\n",
       "  border-radius: 1em;\n",
       "  height: 1em;\n",
       "  width: 1em;\n",
       "  text-decoration: none !important;\n",
       "  margin-left: 1ex;\n",
       "  /* unfitted */\n",
       "  border: var(--sklearn-color-unfitted-level-1) 1pt solid;\n",
       "  color: var(--sklearn-color-unfitted-level-1);\n",
       "}\n",
       "\n",
       ".sk-estimator-doc-link.fitted,\n",
       "a:link.sk-estimator-doc-link.fitted,\n",
       "a:visited.sk-estimator-doc-link.fitted {\n",
       "  /* fitted */\n",
       "  border: var(--sklearn-color-fitted-level-1) 1pt solid;\n",
       "  color: var(--sklearn-color-fitted-level-1);\n",
       "}\n",
       "\n",
       "/* On hover */\n",
       "div.sk-estimator:hover .sk-estimator-doc-link:hover,\n",
       ".sk-estimator-doc-link:hover,\n",
       "div.sk-label-container:hover .sk-estimator-doc-link:hover,\n",
       ".sk-estimator-doc-link:hover {\n",
       "  /* unfitted */\n",
       "  background-color: var(--sklearn-color-unfitted-level-3);\n",
       "  color: var(--sklearn-color-background);\n",
       "  text-decoration: none;\n",
       "}\n",
       "\n",
       "div.sk-estimator.fitted:hover .sk-estimator-doc-link.fitted:hover,\n",
       ".sk-estimator-doc-link.fitted:hover,\n",
       "div.sk-label-container:hover .sk-estimator-doc-link.fitted:hover,\n",
       ".sk-estimator-doc-link.fitted:hover {\n",
       "  /* fitted */\n",
       "  background-color: var(--sklearn-color-fitted-level-3);\n",
       "  color: var(--sklearn-color-background);\n",
       "  text-decoration: none;\n",
       "}\n",
       "\n",
       "/* Span, style for the box shown on hovering the info icon */\n",
       ".sk-estimator-doc-link span {\n",
       "  display: none;\n",
       "  z-index: 9999;\n",
       "  position: relative;\n",
       "  font-weight: normal;\n",
       "  right: .2ex;\n",
       "  padding: .5ex;\n",
       "  margin: .5ex;\n",
       "  width: min-content;\n",
       "  min-width: 20ex;\n",
       "  max-width: 50ex;\n",
       "  color: var(--sklearn-color-text);\n",
       "  box-shadow: 2pt 2pt 4pt #999;\n",
       "  /* unfitted */\n",
       "  background: var(--sklearn-color-unfitted-level-0);\n",
       "  border: .5pt solid var(--sklearn-color-unfitted-level-3);\n",
       "}\n",
       "\n",
       ".sk-estimator-doc-link.fitted span {\n",
       "  /* fitted */\n",
       "  background: var(--sklearn-color-fitted-level-0);\n",
       "  border: var(--sklearn-color-fitted-level-3);\n",
       "}\n",
       "\n",
       ".sk-estimator-doc-link:hover span {\n",
       "  display: block;\n",
       "}\n",
       "\n",
       "/* \"?\"-specific style due to the `<a>` HTML tag */\n",
       "\n",
       "#sk-container-id-1 a.estimator_doc_link {\n",
       "  float: right;\n",
       "  font-size: 1rem;\n",
       "  line-height: 1em;\n",
       "  font-family: monospace;\n",
       "  background-color: var(--sklearn-color-background);\n",
       "  border-radius: 1rem;\n",
       "  height: 1rem;\n",
       "  width: 1rem;\n",
       "  text-decoration: none;\n",
       "  /* unfitted */\n",
       "  color: var(--sklearn-color-unfitted-level-1);\n",
       "  border: var(--sklearn-color-unfitted-level-1) 1pt solid;\n",
       "}\n",
       "\n",
       "#sk-container-id-1 a.estimator_doc_link.fitted {\n",
       "  /* fitted */\n",
       "  border: var(--sklearn-color-fitted-level-1) 1pt solid;\n",
       "  color: var(--sklearn-color-fitted-level-1);\n",
       "}\n",
       "\n",
       "/* On hover */\n",
       "#sk-container-id-1 a.estimator_doc_link:hover {\n",
       "  /* unfitted */\n",
       "  background-color: var(--sklearn-color-unfitted-level-3);\n",
       "  color: var(--sklearn-color-background);\n",
       "  text-decoration: none;\n",
       "}\n",
       "\n",
       "#sk-container-id-1 a.estimator_doc_link.fitted:hover {\n",
       "  /* fitted */\n",
       "  background-color: var(--sklearn-color-fitted-level-3);\n",
       "}\n",
       "</style><div id=\"sk-container-id-1\" class=\"sk-top-container\"><div class=\"sk-text-repr-fallback\"><pre>XGBRFRegressor(base_score=None, booster=None, callbacks=None,\n",
       "               colsample_bylevel=None, colsample_bytree=None, device=None,\n",
       "               early_stopping_rounds=None, enable_categorical=False,\n",
       "               eval_metric=None, feature_types=None, gamma=None,\n",
       "               grow_policy=None, importance_type=None,\n",
       "               interaction_constraints=None, max_bin=None,\n",
       "               max_cat_threshold=None, max_cat_to_onehot=None,\n",
       "               max_delta_step=None, max_depth=None, max_leaves=None,\n",
       "               min_child_weight=None, missing=nan, monotone_constraints=None,\n",
       "               multi_strategy=None, n_estimators=1000, n_jobs=None,\n",
       "               num_parallel_tree=None, objective=&#x27;reg:squarederror&#x27;,\n",
       "               random_state=None, reg_alpha=None, ...)</pre><b>In a Jupyter environment, please rerun this cell to show the HTML representation or trust the notebook. <br />On GitHub, the HTML representation is unable to render, please try loading this page with nbviewer.org.</b></div><div class=\"sk-container\" hidden><div class=\"sk-item\"><div class=\"sk-estimator fitted sk-toggleable\"><input class=\"sk-toggleable__control sk-hidden--visually\" id=\"sk-estimator-id-1\" type=\"checkbox\" checked><label for=\"sk-estimator-id-1\" class=\"sk-toggleable__label fitted sk-toggleable__label-arrow fitted\">&nbsp;XGBRFRegressor<span class=\"sk-estimator-doc-link fitted\">i<span>Fitted</span></span></label><div class=\"sk-toggleable__content fitted\"><pre>XGBRFRegressor(base_score=None, booster=None, callbacks=None,\n",
       "               colsample_bylevel=None, colsample_bytree=None, device=None,\n",
       "               early_stopping_rounds=None, enable_categorical=False,\n",
       "               eval_metric=None, feature_types=None, gamma=None,\n",
       "               grow_policy=None, importance_type=None,\n",
       "               interaction_constraints=None, max_bin=None,\n",
       "               max_cat_threshold=None, max_cat_to_onehot=None,\n",
       "               max_delta_step=None, max_depth=None, max_leaves=None,\n",
       "               min_child_weight=None, missing=nan, monotone_constraints=None,\n",
       "               multi_strategy=None, n_estimators=1000, n_jobs=None,\n",
       "               num_parallel_tree=None, objective=&#x27;reg:squarederror&#x27;,\n",
       "               random_state=None, reg_alpha=None, ...)</pre></div> </div></div></div></div>"
      ],
      "text/plain": [
       "XGBRFRegressor(base_score=None, booster=None, callbacks=None,\n",
       "               colsample_bylevel=None, colsample_bytree=None, device=None,\n",
       "               early_stopping_rounds=None, enable_categorical=False,\n",
       "               eval_metric=None, feature_types=None, gamma=None,\n",
       "               grow_policy=None, importance_type=None,\n",
       "               interaction_constraints=None, max_bin=None,\n",
       "               max_cat_threshold=None, max_cat_to_onehot=None,\n",
       "               max_delta_step=None, max_depth=None, max_leaves=None,\n",
       "               min_child_weight=None, missing=nan, monotone_constraints=None,\n",
       "               multi_strategy=None, n_estimators=1000, n_jobs=None,\n",
       "               num_parallel_tree=None, objective='reg:squarederror',\n",
       "               random_state=None, reg_alpha=None, ...)"
      ]
     },
     "execution_count": 33,
     "metadata": {},
     "output_type": "execute_result"
    }
   ],
   "source": [
    "my_model = XGBRFRegressor(n_estimators=1000)\n",
    "my_model.fit(x_train, y_train,eval_set=[(x_test,y_test)], verbose=False)"
   ]
  },
  {
   "cell_type": "code",
   "execution_count": 34,
   "metadata": {},
   "outputs": [
    {
     "name": "stdout",
     "output_type": "stream",
     "text": [
      "Mean Absolute Error : 704.1830564783638\n"
     ]
    }
   ],
   "source": [
    "# make predictions\n",
    "predictions = my_model.predict(x_test)\n",
    "\n",
    "from sklearn.metrics import mean_absolute_error\n",
    "print(\"Mean Absolute Error : \" + str(mean_absolute_error(predictions, y_test)))"
   ]
  },
  {
   "cell_type": "code",
   "execution_count": 35,
   "metadata": {},
   "outputs": [
    {
     "name": "stdout",
     "output_type": "stream",
     "text": [
      "0.6010719688322417\n",
      "60.10719688322417 %\n"
     ]
    }
   ],
   "source": [
    "r2_score = my_model.score(x_test,y_test)\n",
    "print(r2_score)\n",
    "print(r2_score*100,'%')"
   ]
  },
  {
   "cell_type": "markdown",
   "metadata": {},
   "source": [
    "Random Forest for instagram activity status"
   ]
  },
  {
   "cell_type": "code",
   "execution_count": 36,
   "metadata": {},
   "outputs": [
    {
     "data": {
      "text/plain": [
       "array([2, 0, 1])"
      ]
     },
     "execution_count": 36,
     "metadata": {},
     "output_type": "execute_result"
    }
   ],
   "source": [
    "# Import label encoder\n",
    "from sklearn import preprocessing\n",
    " \n",
    "# label_encoder object knows how to understand word labels.\n",
    "label_encoder = preprocessing.LabelEncoder()\n",
    "\n",
    "df['City']= label_encoder.fit_transform(df['City'])\n",
    "df['City'].unique()\n",
    "\n",
    "df['Current Status']= label_encoder.fit_transform(df['Current Status'])\n",
    "df['Current Status'].unique()\n",
    "\n",
    "df['Do you own multiple profiles on Instagram?']= label_encoder.fit_transform(df['Do you own multiple profiles on Instagram?'])\n",
    "df['Do you own multiple profiles on Instagram?'].unique()\n",
    "\n",
    "df['Gender']= label_encoder.fit_transform(df['Gender'])\n",
    "df['Gender'].unique()\n",
    "\n",
    "df['Highest Education']= label_encoder.fit_transform(df['Highest Education'])\n",
    "df['Highest Education'].unique()\n",
    "\n",
    "df['Phone OS']= label_encoder.fit_transform(df['Phone OS'])\n",
    "df['Phone OS'].unique()\n"
   ]
  },
  {
   "cell_type": "code",
   "execution_count": 37,
   "metadata": {},
   "outputs": [],
   "source": [
    "# random forest \n",
    "labels = np.array(df['Total Social Media Usage'])\n",
    "features=df[['Age','City','Current Status','Gender','Highest Education','Phone OS','Instagram Followers','Instagram Posts',\n",
    "            'Time Spent on Facebook in last week','Time Spent on Instagram in last week',\n",
    "            'Time Spent on WhatsApp in last week']]"
   ]
  },
  {
   "cell_type": "code",
   "execution_count": 38,
   "metadata": {},
   "outputs": [
    {
     "data": {
      "text/plain": [
       "array([ 2190., 15160., 13500., ...,   813.,   848.,  2980.])"
      ]
     },
     "execution_count": 38,
     "metadata": {},
     "output_type": "execute_result"
    }
   ],
   "source": [
    "labels"
   ]
  },
  {
   "cell_type": "code",
   "execution_count": 39,
   "metadata": {},
   "outputs": [
    {
     "data": {
      "text/html": [
       "<div>\n",
       "<style scoped>\n",
       "    .dataframe tbody tr th:only-of-type {\n",
       "        vertical-align: middle;\n",
       "    }\n",
       "\n",
       "    .dataframe tbody tr th {\n",
       "        vertical-align: top;\n",
       "    }\n",
       "\n",
       "    .dataframe thead th {\n",
       "        text-align: right;\n",
       "    }\n",
       "</style>\n",
       "<table border=\"1\" class=\"dataframe\">\n",
       "  <thead>\n",
       "    <tr style=\"text-align: right;\">\n",
       "      <th></th>\n",
       "      <th>Age</th>\n",
       "      <th>City</th>\n",
       "      <th>Current Status</th>\n",
       "      <th>Gender</th>\n",
       "      <th>Highest Education</th>\n",
       "      <th>Phone OS</th>\n",
       "      <th>Instagram Followers</th>\n",
       "      <th>Instagram Posts</th>\n",
       "      <th>Time Spent on Facebook in last week</th>\n",
       "      <th>Time Spent on Instagram in last week</th>\n",
       "      <th>Time Spent on WhatsApp in last week</th>\n",
       "    </tr>\n",
       "  </thead>\n",
       "  <tbody>\n",
       "    <tr>\n",
       "      <th>0</th>\n",
       "      <td>24</td>\n",
       "      <td>18</td>\n",
       "      <td>3</td>\n",
       "      <td>0</td>\n",
       "      <td>0</td>\n",
       "      <td>2</td>\n",
       "      <td>456</td>\n",
       "      <td>20</td>\n",
       "      <td>0</td>\n",
       "      <td>770</td>\n",
       "      <td>900</td>\n",
       "    </tr>\n",
       "    <tr>\n",
       "      <th>1</th>\n",
       "      <td>39</td>\n",
       "      <td>18</td>\n",
       "      <td>3</td>\n",
       "      <td>0</td>\n",
       "      <td>2</td>\n",
       "      <td>2</td>\n",
       "      <td>0</td>\n",
       "      <td>0</td>\n",
       "      <td>6000</td>\n",
       "      <td>0</td>\n",
       "      <td>5000</td>\n",
       "    </tr>\n",
       "    <tr>\n",
       "      <th>2</th>\n",
       "      <td>22</td>\n",
       "      <td>38</td>\n",
       "      <td>3</td>\n",
       "      <td>1</td>\n",
       "      <td>0</td>\n",
       "      <td>0</td>\n",
       "      <td>400</td>\n",
       "      <td>6</td>\n",
       "      <td>500</td>\n",
       "      <td>1000</td>\n",
       "      <td>7000</td>\n",
       "    </tr>\n",
       "    <tr>\n",
       "      <th>3</th>\n",
       "      <td>26</td>\n",
       "      <td>8</td>\n",
       "      <td>0</td>\n",
       "      <td>0</td>\n",
       "      <td>0</td>\n",
       "      <td>0</td>\n",
       "      <td>485</td>\n",
       "      <td>16</td>\n",
       "      <td>1500</td>\n",
       "      <td>2000</td>\n",
       "      <td>1680</td>\n",
       "    </tr>\n",
       "    <tr>\n",
       "      <th>4</th>\n",
       "      <td>50</td>\n",
       "      <td>18</td>\n",
       "      <td>3</td>\n",
       "      <td>1</td>\n",
       "      <td>0</td>\n",
       "      <td>2</td>\n",
       "      <td>0</td>\n",
       "      <td>0</td>\n",
       "      <td>1500</td>\n",
       "      <td>0</td>\n",
       "      <td>2400</td>\n",
       "    </tr>\n",
       "    <tr>\n",
       "      <th>...</th>\n",
       "      <td>...</td>\n",
       "      <td>...</td>\n",
       "      <td>...</td>\n",
       "      <td>...</td>\n",
       "      <td>...</td>\n",
       "      <td>...</td>\n",
       "      <td>...</td>\n",
       "      <td>...</td>\n",
       "      <td>...</td>\n",
       "      <td>...</td>\n",
       "      <td>...</td>\n",
       "    </tr>\n",
       "    <tr>\n",
       "      <th>1623</th>\n",
       "      <td>24</td>\n",
       "      <td>18</td>\n",
       "      <td>2</td>\n",
       "      <td>1</td>\n",
       "      <td>2</td>\n",
       "      <td>2</td>\n",
       "      <td>0</td>\n",
       "      <td>0</td>\n",
       "      <td>0</td>\n",
       "      <td>0</td>\n",
       "      <td>1000</td>\n",
       "    </tr>\n",
       "    <tr>\n",
       "      <th>1624</th>\n",
       "      <td>24</td>\n",
       "      <td>32</td>\n",
       "      <td>3</td>\n",
       "      <td>1</td>\n",
       "      <td>2</td>\n",
       "      <td>2</td>\n",
       "      <td>769</td>\n",
       "      <td>98</td>\n",
       "      <td>0</td>\n",
       "      <td>217</td>\n",
       "      <td>436</td>\n",
       "    </tr>\n",
       "    <tr>\n",
       "      <th>1625</th>\n",
       "      <td>24</td>\n",
       "      <td>35</td>\n",
       "      <td>3</td>\n",
       "      <td>1</td>\n",
       "      <td>2</td>\n",
       "      <td>2</td>\n",
       "      <td>791</td>\n",
       "      <td>146</td>\n",
       "      <td>35</td>\n",
       "      <td>272</td>\n",
       "      <td>343</td>\n",
       "    </tr>\n",
       "    <tr>\n",
       "      <th>1626</th>\n",
       "      <td>35</td>\n",
       "      <td>38</td>\n",
       "      <td>3</td>\n",
       "      <td>1</td>\n",
       "      <td>2</td>\n",
       "      <td>2</td>\n",
       "      <td>645</td>\n",
       "      <td>1768</td>\n",
       "      <td>50</td>\n",
       "      <td>22</td>\n",
       "      <td>620</td>\n",
       "    </tr>\n",
       "    <tr>\n",
       "      <th>1627</th>\n",
       "      <td>26</td>\n",
       "      <td>8</td>\n",
       "      <td>3</td>\n",
       "      <td>2</td>\n",
       "      <td>2</td>\n",
       "      <td>2</td>\n",
       "      <td>12000</td>\n",
       "      <td>200</td>\n",
       "      <td>50</td>\n",
       "      <td>1480</td>\n",
       "      <td>1200</td>\n",
       "    </tr>\n",
       "  </tbody>\n",
       "</table>\n",
       "<p>1628 rows × 11 columns</p>\n",
       "</div>"
      ],
      "text/plain": [
       "      Age  City  Current Status  Gender  Highest Education  Phone OS  \\\n",
       "0      24    18               3       0                  0         2   \n",
       "1      39    18               3       0                  2         2   \n",
       "2      22    38               3       1                  0         0   \n",
       "3      26     8               0       0                  0         0   \n",
       "4      50    18               3       1                  0         2   \n",
       "...   ...   ...             ...     ...                ...       ...   \n",
       "1623   24    18               2       1                  2         2   \n",
       "1624   24    32               3       1                  2         2   \n",
       "1625   24    35               3       1                  2         2   \n",
       "1626   35    38               3       1                  2         2   \n",
       "1627   26     8               3       2                  2         2   \n",
       "\n",
       "      Instagram Followers  Instagram Posts  \\\n",
       "0                     456               20   \n",
       "1                       0                0   \n",
       "2                     400                6   \n",
       "3                     485               16   \n",
       "4                       0                0   \n",
       "...                   ...              ...   \n",
       "1623                    0                0   \n",
       "1624                  769               98   \n",
       "1625                  791              146   \n",
       "1626                  645             1768   \n",
       "1627                12000              200   \n",
       "\n",
       "      Time Spent on Facebook in last week  \\\n",
       "0                                       0   \n",
       "1                                    6000   \n",
       "2                                     500   \n",
       "3                                    1500   \n",
       "4                                    1500   \n",
       "...                                   ...   \n",
       "1623                                    0   \n",
       "1624                                    0   \n",
       "1625                                   35   \n",
       "1626                                   50   \n",
       "1627                                   50   \n",
       "\n",
       "      Time Spent on Instagram in last week  \\\n",
       "0                                      770   \n",
       "1                                        0   \n",
       "2                                     1000   \n",
       "3                                     2000   \n",
       "4                                        0   \n",
       "...                                    ...   \n",
       "1623                                     0   \n",
       "1624                                   217   \n",
       "1625                                   272   \n",
       "1626                                    22   \n",
       "1627                                  1480   \n",
       "\n",
       "      Time Spent on WhatsApp in last week  \n",
       "0                                     900  \n",
       "1                                    5000  \n",
       "2                                    7000  \n",
       "3                                    1680  \n",
       "4                                    2400  \n",
       "...                                   ...  \n",
       "1623                                 1000  \n",
       "1624                                  436  \n",
       "1625                                  343  \n",
       "1626                                  620  \n",
       "1627                                 1200  \n",
       "\n",
       "[1628 rows x 11 columns]"
      ]
     },
     "execution_count": 39,
     "metadata": {},
     "output_type": "execute_result"
    }
   ],
   "source": [
    "features"
   ]
  },
  {
   "cell_type": "code",
   "execution_count": 40,
   "metadata": {},
   "outputs": [],
   "source": [
    "# Saving feature names for later use\n",
    "feature_list = list(features.columns)\n",
    "# Convert to numpy array\n",
    "features = np.array(features)"
   ]
  },
  {
   "cell_type": "code",
   "execution_count": 41,
   "metadata": {},
   "outputs": [],
   "source": [
    "# Using Skicit-learn to split data into training and testing sets\n",
    "from sklearn.model_selection import train_test_split\n",
    "# Split the data into training and testing sets\n",
    "train_features, test_features, train_labels, test_labels = train_test_split(features, labels, test_size = 0.25, random_state = 42)"
   ]
  },
  {
   "cell_type": "code",
   "execution_count": 42,
   "metadata": {},
   "outputs": [
    {
     "name": "stdout",
     "output_type": "stream",
     "text": [
      "Training Features Shape: (1221, 11)\n",
      "Training Labels Shape: (1221,)\n",
      "Testing Features Shape: (407, 11)\n",
      "Testing Labels Shape: (407,)\n"
     ]
    }
   ],
   "source": [
    "print('Training Features Shape:', train_features.shape)\n",
    "print('Training Labels Shape:', train_labels.shape)\n",
    "print('Testing Features Shape:', test_features.shape)\n",
    "print('Testing Labels Shape:', test_labels.shape)"
   ]
  },
  {
   "cell_type": "code",
   "execution_count": 43,
   "metadata": {},
   "outputs": [],
   "source": [
    "# Import the model we are using\n",
    "from sklearn.ensemble import RandomForestRegressor\n",
    "# Instantiate model with 1000 decision trees\n",
    "rf = RandomForestRegressor(n_estimators = 1000, random_state = 42)\n",
    "# Train the model on training data\n",
    "rf.fit(train_features, train_labels);"
   ]
  },
  {
   "cell_type": "code",
   "execution_count": 44,
   "metadata": {},
   "outputs": [
    {
     "name": "stdout",
     "output_type": "stream",
     "text": [
      "Mean Absolute Error: 287.36\n"
     ]
    }
   ],
   "source": [
    "# Use the forest's predict method on the test data\n",
    "predictions = rf.predict(test_features)\n",
    "# Calculate the absolute errors\n",
    "errors = abs(predictions - test_labels)\n",
    "# Print out the mean absolute error (mae)\n",
    "print('Mean Absolute Error:', round(np.mean(errors), 2))"
   ]
  },
  {
   "cell_type": "code",
   "execution_count": 45,
   "metadata": {},
   "outputs": [
    {
     "name": "stdout",
     "output_type": "stream",
     "text": [
      "Accuracy: 84.08 %.\n"
     ]
    }
   ],
   "source": [
    "# Calculate mean absolute percentage error (MAPE)\n",
    "mape = 100 * (errors / test_labels)\n",
    "# Calculate and display accuracy\n",
    "accuracy = 100 - np.mean(mape)\n",
    "print('Accuracy:', round(accuracy, 2), '%.')"
   ]
  },
  {
   "cell_type": "code",
   "execution_count": 46,
   "metadata": {},
   "outputs": [
    {
     "data": {
      "text/plain": [
       "<BarContainer object of 11 artists>"
      ]
     },
     "execution_count": 46,
     "metadata": {},
     "output_type": "execute_result"
    },
    {
     "data": {
      "image/png": "[encoded data removed]",
      "text/plain": [
       "<Figure size 640x480 with 1 Axes>"
      ]
     },
     "metadata": {},
     "output_type": "display_data"
    }
   ],
   "source": [
    "rf.feature_importances_\n",
    "plt.barh(feature_list, rf.feature_importances_)"
   ]
  },
  {
   "cell_type": "markdown",
   "metadata": {},
   "source": [
    "Instagram followers and instagram posts - using Linear Regression"
   ]
  },
  {
   "cell_type": "code",
   "execution_count": 47,
   "metadata": {},
   "outputs": [],
   "source": [
    "x = df[['Instagram Followers','Instagram Posts','Total Instagram Usage']]\n",
    "y = df['Total Social Media Usage']"
   ]
  },
  {
   "cell_type": "code",
   "execution_count": 48,
   "metadata": {},
   "outputs": [
    {
     "name": "stdout",
     "output_type": "stream",
     "text": [
      "Cross Validation Scores are [0.38015047 0.60259074 0.66963075 0.38890315 0.57995909]\n",
      "Average Cross Validation score :0.5242468394286199\n",
      "[-0.00401393 -0.50050065  1.71951042]\n",
      "922.429360187198\n"
     ]
    }
   ],
   "source": [
    "from sklearn.model_selection import train_test_split\n",
    "from sklearn.model_selection import cross_val_score,KFold\n",
    "x_train, x_test, y_train, y_test = train_test_split(x, y, test_size = 0.3)\n",
    "from sklearn.linear_model import LinearRegression\n",
    "model = LinearRegression()\n",
    "\n",
    "model.fit(x_train, y_train)\n",
    "kf=KFold(n_splits=5)\n",
    "score=cross_val_score(model,x,y,cv=kf)\n",
    "print(\"Cross Validation Scores are {}\".format(score))\n",
    "print(\"Average Cross Validation score :{}\".format(score.mean()))\n",
    "print(model.coef_)\n",
    "print(model.intercept_)"
   ]
  },
  {
   "cell_type": "code",
   "execution_count": 49,
   "metadata": {},
   "outputs": [
    {
     "name": "stdout",
     "output_type": "stream",
     "text": [
      "634     3324.0\n",
      "1450     679.0\n",
      "233     1887.0\n",
      "363     2349.0\n",
      "1029    1976.0\n",
      "         ...  \n",
      "48      4387.0\n",
      "1608     352.0\n",
      "1544    1210.0\n",
      "256     5176.0\n",
      "1194    1035.0\n",
      "Name: Total Social Media Usage, Length: 489, dtype: float64\n",
      "2185.166681812319\n"
     ]
    }
   ],
   "source": [
    "predictions = model.predict(x_test)\n",
    "print(y_test)\n",
    "print(predictions[3])"
   ]
  },
  {
   "cell_type": "code",
   "execution_count": 50,
   "metadata": {},
   "outputs": [
    {
     "data": {
      "text/plain": [
       "(array([  3.,  22., 207., 156.,  49.,  28.,  12.,   6.,   4.,   2.]),\n",
       " array([-2748.46116426, -1923.46130636, -1098.46144846,  -273.46159057,\n",
       "          551.53826733,  1376.53812523,  2201.53798313,  3026.53784103,\n",
       "         3851.53769893,  4676.53755682,  5501.53741472]),\n",
       " <BarContainer object of 10 artists>)"
      ]
     },
     "execution_count": 50,
     "metadata": {},
     "output_type": "execute_result"
    },
    {
     "data": {
      "image/png": "[encoded data removed]",
      "text/plain": [
       "<Figure size 640x480 with 1 Axes>"
      ]
     },
     "metadata": {},
     "output_type": "display_data"
    }
   ],
   "source": [
    "plt.hist(y_test - predictions)"
   ]
  },
  {
   "cell_type": "code",
   "execution_count": 51,
   "metadata": {},
   "outputs": [
    {
     "data": {
      "text/plain": [
       "747.4241993775987"
      ]
     },
     "execution_count": 51,
     "metadata": {},
     "output_type": "execute_result"
    }
   ],
   "source": [
    "from sklearn import metrics\n",
    "metrics.mean_absolute_error(y_test, predictions)"
   ]
  },
  {
   "cell_type": "code",
   "execution_count": 52,
   "metadata": {},
   "outputs": [
    {
     "name": "stdout",
     "output_type": "stream",
     "text": [
      "0.5846030597652234\n",
      "58.46030597652234 %\n"
     ]
    }
   ],
   "source": [
    "r2_score = model.score(x_test,y_test)\n",
    "print(r2_score)\n",
    "print(r2_score*100,'%')"
   ]
  },
  {
   "cell_type": "code",
   "execution_count": null,
   "metadata": {},
   "outputs": [],
   "source": []
  },
  {
   "cell_type": "code",
   "execution_count": null,
   "metadata": {},
   "outputs": [],
   "source": []
  }
 ],
 "metadata": {
  "kernelspec": {
   "display_name": "Python 3",
   "language": "python",
   "name": "python3"
  },
  "language_info": {
   "codemirror_mode": {
    "name": "ipython",
    "version": 3
   },
   "file_extension": ".py",
   "mimetype": "text/x-python",
   "name": "python",
   "nbconvert_exporter": "python",
   "pygments_lexer": "ipython3",
   "version": "3.11.5"
  },
  "orig_nbformat": 4
 },
 "nbformat": 4,
 "nbformat_minor": 2
}
